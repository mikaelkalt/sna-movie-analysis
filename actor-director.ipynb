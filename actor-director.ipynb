{
 "nbformat": 4,
 "nbformat_minor": 2,
 "metadata": {
  "language_info": {
   "name": "python",
   "codemirror_mode": {
    "name": "ipython",
    "version": 3
   },
   "version": "3.7.4"
  },
  "orig_nbformat": 2,
  "file_extension": ".py",
  "mimetype": "text/x-python",
  "name": "python",
  "npconvert_exporter": "python",
  "pygments_lexer": "ipython3",
  "version": 3
 },
 "cells": [
  {
   "cell_type": "code",
   "execution_count": 1,
   "metadata": {},
   "outputs": [],
   "source": [
    "import pandas as pd\n"
   ]
  },
  {
   "cell_type": "code",
   "execution_count": 2,
   "metadata": {},
   "outputs": [],
   "source": [
    "edges = pd.read_csv(\"output/edges.csv\")\n",
    "\n",
    "output_edges = pd.DataFrame(columns=['Source', 'Target', 'count'])\n",
    " \n",
    "for index, row in edges.iterrows():\n",
    "    source = row['Source']\n",
    "    targetMovie = row['Target']\n",
    "    allOthersInThisMovie = edges[edges['Target'] == targetMovie]\n",
    "    for i, other in allOthersInThisMovie.iterrows(): \n",
    "        output_edges = output_edges.append({'Source': source, 'Target': other['Source'], 'count': 1}, ignore_index=True)      \n"
   ]
  },
  {
   "cell_type": "code",
   "execution_count": 3,
   "metadata": {},
   "outputs": [],
   "source": [
    "output_edges['weight'] = output_edges.groupby(['Source', 'Target'])['count'].transform('sum')"
   ]
  },
  {
   "cell_type": "code",
   "execution_count": 5,
   "metadata": {},
   "outputs": [
    {
     "name": "stderr",
     "output_type": "stream",
     "text": "/Users/michael/anaconda3/lib/python3.7/site-packages/ipykernel_launcher.py:7: FutureWarning: The 'contains' method is deprecated and will be removed in a future version. Use 'key in index' instead of 'index.contains(key)'\n  import sys\n"
    },
    {
     "data": {
      "text/html": "<div>\n<style scoped>\n    .dataframe tbody tr th:only-of-type {\n        vertical-align: middle;\n    }\n\n    .dataframe tbody tr th {\n        vertical-align: top;\n    }\n\n    .dataframe thead th {\n        text-align: right;\n    }\n</style>\n<table border=\"1\" class=\"dataframe\">\n  <thead>\n    <tr style=\"text-align: right;\">\n      <th></th>\n      <th>Source</th>\n      <th>Target</th>\n      <th>weight</th>\n    </tr>\n  </thead>\n  <tbody>\n    <tr>\n      <td>1</td>\n      <td>http://www.wikidata.org/entity/Q25089</td>\n      <td>http://www.wikidata.org/entity/Q495549</td>\n      <td>1</td>\n    </tr>\n    <tr>\n      <td>3</td>\n      <td>http://www.wikidata.org/entity/Q2001</td>\n      <td>http://www.wikidata.org/entity/Q640929</td>\n      <td>1</td>\n    </tr>\n    <tr>\n      <td>4</td>\n      <td>http://www.wikidata.org/entity/Q2001</td>\n      <td>http://www.wikidata.org/entity/Q47087</td>\n      <td>1</td>\n    </tr>\n    <tr>\n      <td>6</td>\n      <td>http://www.wikidata.org/entity/Q56005</td>\n      <td>http://www.wikidata.org/entity/Q102124</td>\n      <td>1</td>\n    </tr>\n    <tr>\n      <td>7</td>\n      <td>http://www.wikidata.org/entity/Q56005</td>\n      <td>http://www.wikidata.org/entity/Q200405</td>\n      <td>1</td>\n    </tr>\n  </tbody>\n</table>\n</div>",
      "text/plain": "                                  Source  \\\n1  http://www.wikidata.org/entity/Q25089   \n3   http://www.wikidata.org/entity/Q2001   \n4   http://www.wikidata.org/entity/Q2001   \n6  http://www.wikidata.org/entity/Q56005   \n7  http://www.wikidata.org/entity/Q56005   \n\n                                   Target  weight  \n1  http://www.wikidata.org/entity/Q495549       1  \n3  http://www.wikidata.org/entity/Q640929       1  \n4   http://www.wikidata.org/entity/Q47087       1  \n6  http://www.wikidata.org/entity/Q102124       1  \n7  http://www.wikidata.org/entity/Q200405       1  "
     },
     "execution_count": 5,
     "metadata": {},
     "output_type": "execute_result"
    }
   ],
   "source": [
    "cleaned = output_edges.drop_duplicates(subset=['Source', 'Target'])\n",
    "cleaned = cleaned.drop(columns=['count'])\n",
    "\n",
    "final_result = cleaned.copy()\n",
    "\n",
    "for index, row in cleaned.iterrows():\n",
    "    if final_result.index.contains(index): \n",
    "        inverse_edge = cleaned[(cleaned['Source'] == row['Target']) & (cleaned['Target'] == row['Source'])]\n",
    "        final_result = final_result.drop(inverse_edge.index)\n",
    "\n",
    "\n",
    "final_result.head()"
   ]
  },
  {
   "cell_type": "code",
   "execution_count": 6,
   "metadata": {},
   "outputs": [],
   "source": [
    "final_result.head()\n",
    "final_result.to_csv('output/actor-director-edges.csv', index=False, encoding='utf-8')"
   ]
  },
  {
   "cell_type": "code",
   "execution_count": 7,
   "metadata": {},
   "outputs": [],
   "source": [
    "nodes = pd.read_csv(\"output/nodes.csv\")\n",
    "temp = nodes[nodes['type'] != 'MOVIE']\n",
    "non_movie_nodes = temp.copy()\n",
    "non_movie_nodes['year'] = temp['year'].astype(int)\n",
    "\n",
    "cols = list(range(4,10))\n",
    "non_movie_nodes_cleaned = non_movie_nodes.dropna(axis=1)\n",
    "\n",
    "non_movie_nodes_cleaned.head()\n",
    "non_movie_nodes_cleaned.to_csv('output/actor-director-nodes.csv', index=False , encoding='utf-8')\n"
   ]
  },
  {
   "cell_type": "code",
   "execution_count": 56,
   "metadata": {},
   "outputs": [
    {
     "data": {
      "text/html": "<div>\n<style scoped>\n    .dataframe tbody tr th:only-of-type {\n        vertical-align: middle;\n    }\n\n    .dataframe tbody tr th {\n        vertical-align: top;\n    }\n\n    .dataframe thead th {\n        text-align: right;\n    }\n</style>\n<table border=\"1\" class=\"dataframe\">\n  <thead>\n    <tr style=\"text-align: right;\">\n      <th></th>\n      <th>ID</th>\n      <th>label</th>\n      <th>type</th>\n      <th>year</th>\n      <th>duration</th>\n      <th>comedy film</th>\n      <th>mystery film</th>\n      <th>thriller film</th>\n      <th>film based on literature</th>\n      <th>adventure film</th>\n      <th>...</th>\n      <th>historical film</th>\n      <th>war film</th>\n      <th>biographical film</th>\n      <th>LGBT-related film</th>\n      <th>flashback film</th>\n      <th>fantasy film</th>\n      <th>sports film</th>\n      <th>documentary film</th>\n      <th>children's film</th>\n      <th>trial film</th>\n    </tr>\n  </thead>\n  <tbody>\n    <tr>\n      <td>0</td>\n      <td>http://www.wikidata.org/entity/Q1004531</td>\n      <td>Bullets Over Broadway</td>\n      <td>MOVIE</td>\n      <td>1994.0</td>\n      <td>98.0</td>\n      <td>True</td>\n      <td>False</td>\n      <td>False</td>\n      <td>False</td>\n      <td>False</td>\n      <td>...</td>\n      <td>False</td>\n      <td>False</td>\n      <td>False</td>\n      <td>False</td>\n      <td>False</td>\n      <td>False</td>\n      <td>False</td>\n      <td>False</td>\n      <td>False</td>\n      <td>False</td>\n    </tr>\n    <tr>\n      <td>1</td>\n      <td>http://www.wikidata.org/entity/Q25089</td>\n      <td>Woody Allen</td>\n      <td>DIRECTOR</td>\n      <td>1935.0</td>\n      <td>NaN</td>\n      <td>NaN</td>\n      <td>NaN</td>\n      <td>NaN</td>\n      <td>NaN</td>\n      <td>NaN</td>\n      <td>...</td>\n      <td>NaN</td>\n      <td>NaN</td>\n      <td>NaN</td>\n      <td>NaN</td>\n      <td>NaN</td>\n      <td>NaN</td>\n      <td>NaN</td>\n      <td>NaN</td>\n      <td>NaN</td>\n      <td>NaN</td>\n    </tr>\n    <tr>\n      <td>2</td>\n      <td>http://www.wikidata.org/entity/Q103474</td>\n      <td>2001: A Space Odyssey</td>\n      <td>MOVIE</td>\n      <td>1968.0</td>\n      <td>143.0</td>\n      <td>False</td>\n      <td>True</td>\n      <td>True</td>\n      <td>True</td>\n      <td>True</td>\n      <td>...</td>\n      <td>False</td>\n      <td>False</td>\n      <td>False</td>\n      <td>False</td>\n      <td>False</td>\n      <td>False</td>\n      <td>False</td>\n      <td>False</td>\n      <td>False</td>\n      <td>False</td>\n    </tr>\n    <tr>\n      <td>3</td>\n      <td>http://www.wikidata.org/entity/Q2001</td>\n      <td>Stanley Kubrick</td>\n      <td>DIRECTOR</td>\n      <td>1928.0</td>\n      <td>NaN</td>\n      <td>NaN</td>\n      <td>NaN</td>\n      <td>NaN</td>\n      <td>NaN</td>\n      <td>NaN</td>\n      <td>...</td>\n      <td>NaN</td>\n      <td>NaN</td>\n      <td>NaN</td>\n      <td>NaN</td>\n      <td>NaN</td>\n      <td>NaN</td>\n      <td>NaN</td>\n      <td>NaN</td>\n      <td>NaN</td>\n      <td>NaN</td>\n    </tr>\n    <tr>\n      <td>4</td>\n      <td>http://www.wikidata.org/entity/Q103569</td>\n      <td>Alien</td>\n      <td>MOVIE</td>\n      <td>1979.0</td>\n      <td>117.0</td>\n      <td>False</td>\n      <td>False</td>\n      <td>False</td>\n      <td>False</td>\n      <td>False</td>\n      <td>...</td>\n      <td>False</td>\n      <td>False</td>\n      <td>False</td>\n      <td>False</td>\n      <td>False</td>\n      <td>False</td>\n      <td>False</td>\n      <td>False</td>\n      <td>False</td>\n      <td>False</td>\n    </tr>\n  </tbody>\n</table>\n<p>5 rows × 30 columns</p>\n</div>",
      "text/plain": "                                        ID                  label      type  \\\n0  http://www.wikidata.org/entity/Q1004531  Bullets Over Broadway     MOVIE   \n1    http://www.wikidata.org/entity/Q25089            Woody Allen  DIRECTOR   \n2   http://www.wikidata.org/entity/Q103474  2001: A Space Odyssey     MOVIE   \n3     http://www.wikidata.org/entity/Q2001        Stanley Kubrick  DIRECTOR   \n4   http://www.wikidata.org/entity/Q103569                  Alien     MOVIE   \n\n     year  duration comedy film mystery film thriller film  \\\n0  1994.0      98.0        True        False         False   \n1  1935.0       NaN         NaN          NaN           NaN   \n2  1968.0     143.0       False         True          True   \n3  1928.0       NaN         NaN          NaN           NaN   \n4  1979.0     117.0       False        False         False   \n\n  film based on literature adventure film  ... historical film war film  \\\n0                    False          False  ...           False    False   \n1                      NaN            NaN  ...             NaN      NaN   \n2                     True           True  ...           False    False   \n3                      NaN            NaN  ...             NaN      NaN   \n4                    False          False  ...           False    False   \n\n  biographical film LGBT-related film flashback film fantasy film sports film  \\\n0             False             False          False        False       False   \n1               NaN               NaN            NaN          NaN         NaN   \n2             False             False          False        False       False   \n3               NaN               NaN            NaN          NaN         NaN   \n4             False             False          False        False       False   \n\n  documentary film children's film trial film  \n0            False           False      False  \n1              NaN             NaN        NaN  \n2            False           False      False  \n3              NaN             NaN        NaN  \n4            False           False      False  \n\n[5 rows x 30 columns]"
     },
     "execution_count": 56,
     "metadata": {},
     "output_type": "execute_result"
    }
   ],
   "source": []
  }
 ]
}